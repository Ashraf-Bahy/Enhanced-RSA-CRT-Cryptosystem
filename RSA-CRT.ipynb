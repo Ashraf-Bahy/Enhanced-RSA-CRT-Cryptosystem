{
 "cells": [
  {
   "cell_type": "code",
   "execution_count": 1,
   "metadata": {},
   "outputs": [
    {
     "name": "stdout",
     "output_type": "stream",
     "text": [
      "Initial Message 123456789\n",
      "Ciphertext: 995642267691222788875236597085531065662182740844076397894165843973774171685181070599887460933428371937227403669334366863902011007017701143750472078417981886026464076045699724305408771548246096782899055782064452682598622305478798530575834340975574107572939142922772464168830179702087439367992596109766766670041175966351922027349991915583870664607653953694741075110358820711992932695137902879330390933203870442858537672650465124998895027164622079423649638879154372754148429329034714308456942842151080611773542967295756664998178550675328460174547499894243160372080187295443689600970481393578636457613128669957512996005\n",
      "Decrypted Message: 123456789\n"
     ]
    }
   ],
   "source": [
    "from KeyGenerator import *\n",
    "from Rsa_Enc_Dec import *\n",
    "\n",
    "keygen = KeyGenerator(key_size=2048)\n",
    "keygen.generate_keys()\n",
    "public_key, private_key = keygen.get_keys()\n",
    "\n",
    "# Initialize encryption and decryption\n",
    "rsa_encryptor = RSAEncryption(public_key)\n",
    "rsa_decryptor = RSADecryption(private_key)\n",
    "\n",
    "# Encrypt a message\n",
    "message = \"123456789\"  # Example plaintext message as an integer\n",
    "print(\"Initial Message\", message)\n",
    "ciphertext = rsa_encryptor.encrypt(message)\n",
    "print(\"Ciphertext:\", ciphertext)\n",
    "\n",
    "# Decrypt the ciphertext\n",
    "decrypted_message = rsa_decryptor.decrypt(ciphertext)\n",
    "print(\"Decrypted Message:\", decrypted_message)\n",
    "\n",
    "# Verify correctness\n",
    "assert message == decrypted_message, \"Decryption failed!\""
   ]
  }
 ],
 "metadata": {
  "kernelspec": {
   "display_name": "Python 3",
   "language": "python",
   "name": "python3"
  },
  "language_info": {
   "codemirror_mode": {
    "name": "ipython",
    "version": 3
   },
   "file_extension": ".py",
   "mimetype": "text/x-python",
   "name": "python",
   "nbconvert_exporter": "python",
   "pygments_lexer": "ipython3",
   "version": "3.12.0"
  }
 },
 "nbformat": 4,
 "nbformat_minor": 2
}
