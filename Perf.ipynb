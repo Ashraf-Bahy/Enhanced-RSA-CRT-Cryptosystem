{
 "cells": [
  {
   "cell_type": "code",
   "execution_count": 1,
   "metadata": {},
   "outputs": [
    {
     "name": "stdout",
     "output_type": "stream",
     "text": [
      "Traditional RSA Encryption Time: 0.000080\n",
      "Traditional RSA Decryption Time: 0.021026\n",
      "CRT-RSA Encryption Time: 0.000079\n",
      "CRT-RSA Decryption Time: 0.005996\n",
      "Decryption Speedup: 71.481041\n",
      "Decryption Performance Enhancement: 3.506439\n"
     ]
    }
   ],
   "source": [
    "from KeyGenerator import *\n",
    "from Rsa_Enc_Dec import *\n",
    "from Traditional_Rsa import *\n",
    "import time\n",
    "\n",
    "def measure_execution_time(rsa_instance, operation, message, iterations=100):\n",
    "    start_time = time.time()\n",
    "    for _ in range(iterations):\n",
    "        if operation == 'encrypt':\n",
    "            rsa_instance.encrypt(message)\n",
    "        elif operation == 'decrypt':\n",
    "            rsa_instance.decrypt(message)\n",
    "    end_time = time.time()\n",
    "    return (end_time - start_time) / iterations\n",
    "\n",
    "\n",
    "def performance_comparison(key_size=2048, iterations=1000):\n",
    "    message = 123456789  # Example plaintext message as an integer\n",
    "\n",
    "    # Traditional RSA setup\n",
    "    traditional_rsa = TraditionalRSA(key_size=key_size)\n",
    "    traditional_rsa.generate_keys()\n",
    "\n",
    "    # CRT-RSA setup\n",
    "    keygen = KeyGenerator(key_size=key_size)\n",
    "    keygen.generate_keys()\n",
    "    crt_public_key, crt_private_key = keygen.get_keys()\n",
    "\n",
    "    rsa_encryptor = RSAEncryption(crt_public_key)\n",
    "    rsa_decryptor = RSADecryption(crt_private_key)\n",
    "\n",
    "    # Encryption for comparison\n",
    "    ciphertext_traditional = traditional_rsa.encrypt(message)\n",
    "    ciphertext_crt = rsa_encryptor.encrypt(message)\n",
    "\n",
    "    # Measure performance\n",
    "    traditional_encrypt_time = measure_execution_time(\n",
    "        traditional_rsa, 'encrypt', message, iterations\n",
    "    )\n",
    "    traditional_decrypt_time = measure_execution_time(\n",
    "        traditional_rsa, 'decrypt', ciphertext_traditional, iterations\n",
    "    )\n",
    "\n",
    "    crt_encrypt_time = measure_execution_time(\n",
    "        rsa_encryptor, 'encrypt', message, iterations\n",
    "    )\n",
    "    crt_decrypt_time = measure_execution_time(\n",
    "        rsa_decryptor, 'decrypt', ciphertext_crt, iterations\n",
    "    )\n",
    "\n",
    "    return {\n",
    "        'Traditional RSA Encryption Time': traditional_encrypt_time,\n",
    "        'Traditional RSA Decryption Time': traditional_decrypt_time,\n",
    "        'CRT-RSA Encryption Time': crt_encrypt_time,\n",
    "        'CRT-RSA Decryption Time': crt_decrypt_time,\n",
    "        'Decryption Speedup': (traditional_decrypt_time - crt_decrypt_time) / traditional_decrypt_time * 100,\n",
    "        'Decryption Performance Enhancement': traditional_decrypt_time / crt_decrypt_time\n",
    "    }\n",
    "\n",
    "results = performance_comparison(key_size=2048, iterations=100)\n",
    "for key, value in results.items():\n",
    "    print(f\"{key}: {value:.6f}\")"
   ]
  }
 ],
 "metadata": {
  "kernelspec": {
   "display_name": "Python 3",
   "language": "python",
   "name": "python3"
  },
  "language_info": {
   "codemirror_mode": {
    "name": "ipython",
    "version": 3
   },
   "file_extension": ".py",
   "mimetype": "text/x-python",
   "name": "python",
   "nbconvert_exporter": "python",
   "pygments_lexer": "ipython3",
   "version": "3.12.0"
  }
 },
 "nbformat": 4,
 "nbformat_minor": 2
}
